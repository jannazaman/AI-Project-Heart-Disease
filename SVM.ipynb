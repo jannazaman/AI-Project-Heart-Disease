{
 "cells": [
  {
   "cell_type": "code",
   "execution_count": 1,
   "id": "5be19bca",
   "metadata": {},
   "outputs": [],
   "source": [
    "import pandas as pd\n",
    "import numpy as np\n",
    "import random"
   ]
  },
  {
   "cell_type": "code",
   "execution_count": 2,
   "id": "98576e70",
   "metadata": {},
   "outputs": [],
   "source": [
    "from sklearn import svm\n",
    "from sklearn.svm import SVC"
   ]
  },
  {
   "cell_type": "code",
   "execution_count": 3,
   "id": "bd57bcfb",
   "metadata": {},
   "outputs": [],
   "source": [
    "from sklearn.model_selection import GridSearchCV\n",
    "from sklearn.metrics import classification_report\n",
    "from sklearn.model_selection import train_test_split"
   ]
  },
  {
   "cell_type": "markdown",
   "id": "9475d9ef",
   "metadata": {},
   "source": [
    "# Data Import"
   ]
  },
  {
   "cell_type": "code",
   "execution_count": 4,
   "id": "5bd7dfb2",
   "metadata": {},
   "outputs": [],
   "source": [
    "#Read in the dataset\n",
    "heart = pd.read_csv(\"C:/Users/janna/Downloads/processed.cleveland.data.csv\", header=None, names=[\"Age\", \"Sex\", \"CP\", \"trestbps\", \"Chol\", \"fbs\", \"restecg\", \"thalach\", \"exang\", \"oldpeak\", \"slope\", \"ca\", \"thal\", \"num\"])\n",
    "heart = heart[[\"Age\", \"Sex\", \"CP\", \"trestbps\", \"Chol\", \"fbs\", \"restecg\", \"thalach\", \"exang\", \"oldpeak\", \"slope\", \"ca\", \"thal\", \"num\"]]"
   ]
  },
  {
   "cell_type": "code",
   "execution_count": 5,
   "id": "7ae82a71",
   "metadata": {},
   "outputs": [
    {
     "data": {
      "text/html": [
       "<div>\n",
       "<style scoped>\n",
       "    .dataframe tbody tr th:only-of-type {\n",
       "        vertical-align: middle;\n",
       "    }\n",
       "\n",
       "    .dataframe tbody tr th {\n",
       "        vertical-align: top;\n",
       "    }\n",
       "\n",
       "    .dataframe thead th {\n",
       "        text-align: right;\n",
       "    }\n",
       "</style>\n",
       "<table border=\"1\" class=\"dataframe\">\n",
       "  <thead>\n",
       "    <tr style=\"text-align: right;\">\n",
       "      <th></th>\n",
       "      <th>Age</th>\n",
       "      <th>Sex</th>\n",
       "      <th>CP</th>\n",
       "      <th>trestbps</th>\n",
       "      <th>Chol</th>\n",
       "      <th>fbs</th>\n",
       "      <th>restecg</th>\n",
       "      <th>thalach</th>\n",
       "      <th>exang</th>\n",
       "      <th>oldpeak</th>\n",
       "      <th>slope</th>\n",
       "      <th>ca</th>\n",
       "      <th>thal</th>\n",
       "      <th>num</th>\n",
       "    </tr>\n",
       "  </thead>\n",
       "  <tbody>\n",
       "    <tr>\n",
       "      <th>0</th>\n",
       "      <td>63</td>\n",
       "      <td>1</td>\n",
       "      <td>1</td>\n",
       "      <td>145</td>\n",
       "      <td>233</td>\n",
       "      <td>1</td>\n",
       "      <td>2</td>\n",
       "      <td>150</td>\n",
       "      <td>0</td>\n",
       "      <td>2.3</td>\n",
       "      <td>3</td>\n",
       "      <td>0</td>\n",
       "      <td>6</td>\n",
       "      <td>0</td>\n",
       "    </tr>\n",
       "    <tr>\n",
       "      <th>1</th>\n",
       "      <td>67</td>\n",
       "      <td>1</td>\n",
       "      <td>4</td>\n",
       "      <td>160</td>\n",
       "      <td>286</td>\n",
       "      <td>0</td>\n",
       "      <td>2</td>\n",
       "      <td>108</td>\n",
       "      <td>1</td>\n",
       "      <td>1.5</td>\n",
       "      <td>2</td>\n",
       "      <td>3</td>\n",
       "      <td>3</td>\n",
       "      <td>2</td>\n",
       "    </tr>\n",
       "    <tr>\n",
       "      <th>2</th>\n",
       "      <td>67</td>\n",
       "      <td>1</td>\n",
       "      <td>4</td>\n",
       "      <td>120</td>\n",
       "      <td>229</td>\n",
       "      <td>0</td>\n",
       "      <td>2</td>\n",
       "      <td>129</td>\n",
       "      <td>1</td>\n",
       "      <td>2.6</td>\n",
       "      <td>2</td>\n",
       "      <td>2</td>\n",
       "      <td>7</td>\n",
       "      <td>1</td>\n",
       "    </tr>\n",
       "    <tr>\n",
       "      <th>3</th>\n",
       "      <td>37</td>\n",
       "      <td>1</td>\n",
       "      <td>3</td>\n",
       "      <td>130</td>\n",
       "      <td>250</td>\n",
       "      <td>0</td>\n",
       "      <td>0</td>\n",
       "      <td>187</td>\n",
       "      <td>0</td>\n",
       "      <td>3.5</td>\n",
       "      <td>3</td>\n",
       "      <td>0</td>\n",
       "      <td>3</td>\n",
       "      <td>0</td>\n",
       "    </tr>\n",
       "    <tr>\n",
       "      <th>4</th>\n",
       "      <td>41</td>\n",
       "      <td>0</td>\n",
       "      <td>2</td>\n",
       "      <td>130</td>\n",
       "      <td>204</td>\n",
       "      <td>0</td>\n",
       "      <td>2</td>\n",
       "      <td>172</td>\n",
       "      <td>0</td>\n",
       "      <td>1.4</td>\n",
       "      <td>1</td>\n",
       "      <td>0</td>\n",
       "      <td>3</td>\n",
       "      <td>0</td>\n",
       "    </tr>\n",
       "  </tbody>\n",
       "</table>\n",
       "</div>"
      ],
      "text/plain": [
       "   Age  Sex  CP  trestbps  Chol  fbs  restecg  thalach  exang  oldpeak  slope  \\\n",
       "0   63    1   1       145   233    1        2      150      0      2.3      3   \n",
       "1   67    1   4       160   286    0        2      108      1      1.5      2   \n",
       "2   67    1   4       120   229    0        2      129      1      2.6      2   \n",
       "3   37    1   3       130   250    0        0      187      0      3.5      3   \n",
       "4   41    0   2       130   204    0        2      172      0      1.4      1   \n",
       "\n",
       "   ca  thal  num  \n",
       "0   0     6    0  \n",
       "1   3     3    2  \n",
       "2   2     7    1  \n",
       "3   0     3    0  \n",
       "4   0     3    0  "
      ]
     },
     "execution_count": 5,
     "metadata": {},
     "output_type": "execute_result"
    }
   ],
   "source": [
    "heart.head()"
   ]
  },
  {
   "cell_type": "code",
   "execution_count": 6,
   "id": "e0f5ac67",
   "metadata": {},
   "outputs": [
    {
     "name": "stdout",
     "output_type": "stream",
     "text": [
      "(303, 14)\n",
      "<class 'pandas.core.frame.DataFrame'>\n",
      "RangeIndex: 303 entries, 0 to 302\n",
      "Data columns (total 14 columns):\n",
      " #   Column    Non-Null Count  Dtype  \n",
      "---  ------    --------------  -----  \n",
      " 0   Age       303 non-null    int64  \n",
      " 1   Sex       303 non-null    int64  \n",
      " 2   CP        303 non-null    int64  \n",
      " 3   trestbps  303 non-null    int64  \n",
      " 4   Chol      303 non-null    int64  \n",
      " 5   fbs       303 non-null    int64  \n",
      " 6   restecg   303 non-null    int64  \n",
      " 7   thalach   303 non-null    int64  \n",
      " 8   exang     303 non-null    int64  \n",
      " 9   oldpeak   303 non-null    float64\n",
      " 10  slope     303 non-null    int64  \n",
      " 11  ca        303 non-null    int64  \n",
      " 12  thal      303 non-null    int64  \n",
      " 13  num       303 non-null    int64  \n",
      "dtypes: float64(1), int64(13)\n",
      "memory usage: 33.3 KB\n",
      "None\n"
     ]
    }
   ],
   "source": [
    "# Dimensions of the dataset\n",
    "print(heart.shape)\n",
    "\n",
    "# Structure of the dataset\n",
    "print(heart.info())"
   ]
  },
  {
   "cell_type": "markdown",
   "id": "20af3458",
   "metadata": {},
   "source": [
    "# Data cleaning and preparation"
   ]
  },
  {
   "cell_type": "code",
   "execution_count": 7,
   "id": "c3b4cc38",
   "metadata": {},
   "outputs": [
    {
     "data": {
      "text/plain": [
       "Age         0\n",
       "Sex         0\n",
       "CP          0\n",
       "trestbps    0\n",
       "Chol        0\n",
       "fbs         0\n",
       "restecg     0\n",
       "thalach     0\n",
       "exang       0\n",
       "oldpeak     0\n",
       "slope       0\n",
       "ca          0\n",
       "thal        0\n",
       "num         0\n",
       "dtype: int64"
      ]
     },
     "execution_count": 7,
     "metadata": {},
     "output_type": "execute_result"
    }
   ],
   "source": [
    "#Check for the number of missing values in data frame\n",
    "heart.isnull().sum() "
   ]
  },
  {
   "cell_type": "code",
   "execution_count": 8,
   "id": "030db7ef",
   "metadata": {},
   "outputs": [
    {
     "name": "stdout",
     "output_type": "stream",
     "text": [
      "0    164\n",
      "1    139\n",
      "Name: num, dtype: int64\n"
     ]
    }
   ],
   "source": [
    "#Make response variable binary - If value greater than 0 and less than 5, set it to 1; otherwise it's unchanged.\n",
    "heart['num'] = np.where((heart['num'] > 0) & (heart['num'] < 5), 1, heart['num'])\n",
    "\n",
    "# Print frequency table of num\n",
    "print(heart['num'].value_counts())"
   ]
  },
  {
   "cell_type": "code",
   "execution_count": 9,
   "id": "835dfdbc",
   "metadata": {},
   "outputs": [],
   "source": [
    "# Convert the features to an appropriate data type\n",
    "heart['Age'] = heart['Age'].astype('float')\n",
    "heart['Sex'] = heart['Sex'].astype('float')\n",
    "heart['CP'] = heart['CP'].astype('float')\n",
    "heart['trestbps'] = heart['trestbps'].astype('float')\n",
    "heart['Chol'] = heart['Chol'].astype('float')\n",
    "heart['fbs'] = heart['fbs'].astype('float')\n",
    "heart['restecg'] = heart['restecg'].astype('float')\n",
    "heart['thalach'] = heart['thalach'].astype('float')\n",
    "heart['exang'] = heart['exang'].astype('float')\n",
    "heart['oldpeak'] = heart['oldpeak'].astype('float')\n",
    "heart['slope'] = heart['slope'].astype('float')\n",
    "heart['ca'] = heart['ca'].astype('float')\n",
    "heart['thal'] = heart['thal'].astype('float')\n",
    "# Convert the response variable \n",
    "heart['num'] = heart['num'].astype('category')"
   ]
  },
  {
   "cell_type": "code",
   "execution_count": 10,
   "id": "ec6ac864",
   "metadata": {},
   "outputs": [
    {
     "name": "stdout",
     "output_type": "stream",
     "text": [
      "<class 'pandas.core.frame.DataFrame'>\n",
      "RangeIndex: 303 entries, 0 to 302\n",
      "Data columns (total 14 columns):\n",
      " #   Column    Non-Null Count  Dtype   \n",
      "---  ------    --------------  -----   \n",
      " 0   Age       303 non-null    float64 \n",
      " 1   Sex       303 non-null    float64 \n",
      " 2   CP        303 non-null    float64 \n",
      " 3   trestbps  303 non-null    float64 \n",
      " 4   Chol      303 non-null    float64 \n",
      " 5   fbs       303 non-null    float64 \n",
      " 6   restecg   303 non-null    float64 \n",
      " 7   thalach   303 non-null    float64 \n",
      " 8   exang     303 non-null    float64 \n",
      " 9   oldpeak   303 non-null    float64 \n",
      " 10  slope     303 non-null    float64 \n",
      " 11  ca        303 non-null    float64 \n",
      " 12  thal      303 non-null    float64 \n",
      " 13  num       303 non-null    category\n",
      "dtypes: category(1), float64(13)\n",
      "memory usage: 31.3 KB\n",
      "None\n"
     ]
    }
   ],
   "source": [
    "print(heart.info())"
   ]
  },
  {
   "cell_type": "code",
   "execution_count": 11,
   "id": "e86d97f4",
   "metadata": {},
   "outputs": [
    {
     "name": "stdout",
     "output_type": "stream",
     "text": [
      "0    0.00\n",
      "1    0.25\n",
      "2    0.50\n",
      "3    0.75\n",
      "4    1.00\n",
      "dtype: float64\n",
      "0    0.00\n",
      "1    0.25\n",
      "2    0.50\n",
      "3    0.75\n",
      "4    1.00\n",
      "dtype: float64\n"
     ]
    }
   ],
   "source": [
    "# Data normalization\n",
    "def normalize(x):\n",
    "    return ((x - x.min()) / (x.max() - x.min()))\n",
    "\n",
    "# Test normalization function (should output the same result)\n",
    "print(normalize(pd.Series([1, 2, 3, 4, 5])))\n",
    "print(normalize(pd.Series([10, 20, 30, 40, 50])))\n",
    "\n",
    "# Apply normalize function to data\n",
    "cols_to_normalize = ['Age', 'Sex', 'CP', 'trestbps', 'Chol', 'fbs', 'restecg', 'thalach', 'exang', 'oldpeak', 'slope', 'ca', 'thal']\n",
    "heart[cols_to_normalize] = heart[cols_to_normalize].apply(normalize)"
   ]
  },
  {
   "cell_type": "code",
   "execution_count": 12,
   "id": "d3142811",
   "metadata": {},
   "outputs": [
    {
     "name": "stdout",
     "output_type": "stream",
     "text": [
      "              Age         Sex          CP    trestbps        Chol         fbs  \\\n",
      "count  303.000000  303.000000  303.000000  303.000000  303.000000  303.000000   \n",
      "mean     0.529978    0.679868    0.719472    0.355564    0.275555    0.148515   \n",
      "std      0.188305    0.467299    0.320042    0.166035    0.118212    0.356198   \n",
      "min      0.000000    0.000000    0.000000    0.000000    0.000000    0.000000   \n",
      "25%      0.395833    0.000000    0.666667    0.245283    0.194064    0.000000   \n",
      "50%      0.562500    1.000000    0.666667    0.339623    0.262557    0.000000   \n",
      "75%      0.666667    1.000000    1.000000    0.433962    0.340183    0.000000   \n",
      "max      1.000000    1.000000    1.000000    1.000000    1.000000    1.000000   \n",
      "\n",
      "          restecg     thalach       exang     oldpeak       slope          ca  \\\n",
      "count  303.000000  303.000000  303.000000  303.000000  303.000000  303.000000   \n",
      "mean     0.495050    0.600055    0.326733    0.167678    0.300330    0.228823   \n",
      "std      0.497486    0.174618    0.469794    0.187270    0.308113    0.314720   \n",
      "min      0.000000    0.000000    0.000000    0.000000    0.000000    0.000000   \n",
      "25%      0.000000    0.477099    0.000000    0.000000    0.000000    0.000000   \n",
      "50%      0.500000    0.625954    0.000000    0.129032    0.500000    0.000000   \n",
      "75%      1.000000    0.725191    1.000000    0.258065    0.500000    0.333333   \n",
      "max      1.000000    1.000000    1.000000    1.000000    1.000000    1.000000   \n",
      "\n",
      "             thal  \n",
      "count  303.000000  \n",
      "mean     0.430693  \n",
      "std      0.484596  \n",
      "min      0.000000  \n",
      "25%      0.000000  \n",
      "50%      0.000000  \n",
      "75%      1.000000  \n",
      "max      1.000000  \n"
     ]
    }
   ],
   "source": [
    "# Check the data frame as of now\n",
    "print(heart.describe())"
   ]
  },
  {
   "cell_type": "markdown",
   "id": "dafac8d4",
   "metadata": {},
   "source": [
    "# Data splicing"
   ]
  },
  {
   "cell_type": "code",
   "execution_count": 13,
   "id": "3217bb26",
   "metadata": {},
   "outputs": [],
   "source": [
    "# Data splicing - train 80% and test 20%\n",
    "X = heart.drop('num', axis=1)  \n",
    "y = heart['num']\n",
    "\n",
    "#split data\n",
    "X_train, X_test, y_train, y_test = train_test_split(X, y, test_size = 0.20, random_state=5)"
   ]
  },
  {
   "cell_type": "code",
   "execution_count": 14,
   "id": "e29f815a",
   "metadata": {
    "scrolled": true
   },
   "outputs": [
    {
     "name": "stdout",
     "output_type": "stream",
     "text": [
      "X_train shape: (242, 13)\n",
      "y_train shape: (242,)\n",
      "X_test shape: (61, 13)\n",
      "y_test shape: (61,)\n"
     ]
    }
   ],
   "source": [
    "# check the dimensions of the split data\n",
    "print(\"X_train shape:\", X_train.shape)\n",
    "print(\"y_train shape:\", y_train.shape)\n",
    "print(\"X_test shape:\", X_test.shape)\n",
    "print(\"y_test shape:\", y_test.shape)"
   ]
  },
  {
   "cell_type": "code",
   "execution_count": 15,
   "id": "00113231",
   "metadata": {},
   "outputs": [
    {
     "name": "stdout",
     "output_type": "stream",
     "text": [
      "    Kernel  C Value  Accuracy\n",
      "0   Linear      0.5  0.868852\n",
      "1      RBF      0.5  0.836066\n",
      "2  Sigmoid      0.5  0.852459\n"
     ]
    }
   ],
   "source": [
    "from sklearn.metrics import accuracy_score\n",
    "\n",
    "# The kernels I will be working with\n",
    "kernels = ['Linear', 'RBF', 'Sigmoid']\n",
    "\n",
    "#Create svm classifier\n",
    "def getClassifier(ktype, C_val, gamma_val):\n",
    "    if ktype == 0:\n",
    "        # Linear kernel\n",
    "        return SVC(kernel='linear', C=C_val)\n",
    "    elif ktype == 1:\n",
    "        # Rbf kernel\n",
    "        return SVC(kernel='rbf', gamma=gamma_val, C=C_val)\n",
    "    elif ktype == 2:\n",
    "        # Sigmoid kernel\n",
    "        return SVC(kernel='sigmoid', gamma=gamma_val, C=C_val)\n",
    "\n",
    "# Set the gamma\n",
    "gamma_val = 0.1  \n",
    "\n",
    "# Initialize a list to store results\n",
    "results = []\n",
    "\n",
    "for i in range(3):  \n",
    "    # Set cost values\n",
    "    if i == 0:\n",
    "        C_vals = [0.5]\n",
    "    elif i == 1:\n",
    "        C_vals = [0.5]\n",
    "    else:\n",
    "        C_vals = [0.5]\n",
    "    \n",
    "    for C_val in C_vals:\n",
    "        \n",
    "        # Separate data into test and training sets\n",
    "        X_train, X_test, y_train, y_test = train_test_split(X, y, test_size=0.20, random_state=5)\n",
    "        \n",
    "        # Train a SVC model using different kernel and C values, and train using training sets\n",
    "        svclassifier = getClassifier(i, C_val, gamma_val) \n",
    "        svclassifier.fit(X_train, y_train)\n",
    "        \n",
    "        # Make prediction regarding test dataset\n",
    "        y_pred = svclassifier.predict(X_test)\n",
    "        \n",
    "        # Calculate accuracy score\n",
    "        accuracy = accuracy_score(y_test, y_pred)\n",
    "        \n",
    "        # Add result to the list\n",
    "        results.append([kernels[i], C_val, accuracy])\n",
    "\n",
    "# Convert results to a DataFrame and display as a table\n",
    "df = pd.DataFrame(results, columns=['Kernel', 'C Value', 'Accuracy'])\n",
    "print(df)\n"
   ]
  }
 ],
 "metadata": {
  "kernelspec": {
   "display_name": "Python 3 (ipykernel)",
   "language": "python",
   "name": "python3"
  },
  "language_info": {
   "codemirror_mode": {
    "name": "ipython",
    "version": 3
   },
   "file_extension": ".py",
   "mimetype": "text/x-python",
   "name": "python",
   "nbconvert_exporter": "python",
   "pygments_lexer": "ipython3",
   "version": "3.10.7"
  }
 },
 "nbformat": 4,
 "nbformat_minor": 5
}
